{
 "cells": [
  {
   "cell_type": "code",
   "execution_count": 1,
   "id": "36ceca2a",
   "metadata": {},
   "outputs": [],
   "source": [
    "%reload_ext autoreload\n",
    "# for auto reloading modules without kernel restart"
   ]
  },
  {
   "cell_type": "code",
   "execution_count": 2,
   "id": "b5956472",
   "metadata": {},
   "outputs": [
    {
     "name": "stdout",
     "output_type": "stream",
     "text": [
      "Python 3.9.7\n",
      "pandas version: 1.3.4\n",
      "numpy version: 1.20.3\n"
     ]
    }
   ],
   "source": [
    "import pandas as pd\n",
    "import numpy as np\n",
    "import matplotlib.pyplot as plt\n",
    "import timeit\n",
    "from dataclasses import dataclass       # C like structure\n",
    "import glob                             # finds all the pathnames matching specified pattern\n",
    "!python --version\n",
    "print('pandas version: ' + pd.__version__)\n",
    "print('numpy version: ' + np.__version__)"
   ]
  },
  {
   "cell_type": "code",
   "execution_count": 3,
   "id": "18d15199",
   "metadata": {},
   "outputs": [],
   "source": [
    "# Plot related packages,%matplotlib notebook makes plots in jupyter interactive\n",
    "%matplotlib notebook\n",
    "import matplotlib.pyplot as plt\n",
    "import matplotlib.dates as md\n",
    "import datetime as dt\n",
    "import time"
   ]
  },
  {
   "cell_type": "code",
   "execution_count": 4,
   "id": "c70f55b4",
   "metadata": {},
   "outputs": [
    {
     "name": "stdout",
     "output_type": "stream",
     "text": [
      "imported custom_plot.py\n",
      "data_clean imported\n"
     ]
    }
   ],
   "source": [
    "import sys\n",
    "sys.path.append('C:\\\\Users\\\\s.kaiser\\\\Experiments\\\\MuleCarData\\\\my_modules') # add custom module folder\n",
    "import custom_plot\n",
    "import data_clean"
   ]
  },
  {
   "cell_type": "code",
   "execution_count": 5,
   "id": "bae96c0b",
   "metadata": {},
   "outputs": [],
   "source": [
    "df_jan = pd.read_pickle(\"jan15_19_2022.pkl\")\n",
    "df_feb = pd.read_pickle(\"feb22_24_2022.pkl\")"
   ]
  },
  {
   "cell_type": "code",
   "execution_count": 44,
   "id": "d1c63d5b",
   "metadata": {},
   "outputs": [],
   "source": [
    "# df_feb\n",
    "# Multi step multi variate sequence foreccasting: using past observations to forecast a sequence of future observations\n",
    "# https://machinelearningmastery.com/convert-time-series-supervised-learning-problem-python/\n",
    "\n",
    "def series_to_supervised(data, n_in=1, n_out=1, dropnan=True):\n",
    "    \"\"\"\n",
    "    Frame a time series as a supervised learning dataset.\n",
    "    Arguments:\n",
    "        data: Sequence of observations as a list or NumPy array.\n",
    "        n_in: Number of lag observations as input (X).\n",
    "        n_out: Number of observations as output (y).\n",
    "        dropnan: Boolean whether or not to drop rows with NaN values.\n",
    "    Returns:\n",
    "        Pandas DataFrame of series framed for supervised learning.\n",
    "    \"\"\"\n",
    "    # axis 0: #rows, axis 1: #cols, axis 2: #3rd dim\n",
    "    n_vars = 1 if type(data) is list else data.shape[1]         # shape [1] = #cols\n",
    "    df = pd.DataFrame(data)\n",
    "    cols, names = list(), list()\n",
    "    \n",
    "    # input sequence (t-n, ... t-1)\n",
    "    for i in range(n_in, 0, -1):\n",
    "        cols.append(df.shift(i))                    # shifts all rows down by i\n",
    "        names += [('var%d(t-%d)' % (j+1, i)) for j in range(n_vars)]\n",
    "        print(cols)\n",
    "    \n",
    "    # forecast sequence (t, t+1, ... t+n)\n",
    "    for i in range(0, n_out):\n",
    "        cols.append(df.shift(-i))\n",
    "        if i == 0:\n",
    "            names += [('var%d(t)' % (j+1)) for j in range(n_vars)]\n",
    "        else:\n",
    "            names += [('var%d(t+%d)' % (j+1, i)) for j in range(n_vars)]\n",
    "\n",
    "\n",
    "    print(\"col len: \" + str(len(cols)))\n",
    "    print(cols)\n",
    "    # put it all together\n",
    "    agg = pd.concat(cols, axis=1)\n",
    "    agg.columns = names\n",
    "    # drop rows with NaN values\n",
    "    if dropnan:\n",
    "        agg.dropna(inplace=True)\n",
    "    return agg\n"
   ]
  },
  {
   "cell_type": "code",
   "execution_count": 45,
   "id": "c10226b2",
   "metadata": {},
   "outputs": [
    {
     "name": "stdout",
     "output_type": "stream",
     "text": [
      "[     0     1\n",
      "0  NaN   NaN\n",
      "1  0.0  50.0\n",
      "2  1.0  51.0\n",
      "3  2.0  52.0\n",
      "4  3.0  53.0\n",
      "5  4.0  54.0\n",
      "6  5.0  55.0\n",
      "7  6.0  56.0\n",
      "8  7.0  57.0\n",
      "9  8.0  58.0]\n",
      "col len: 3\n",
      "[     0     1\n",
      "0  NaN   NaN\n",
      "1  0.0  50.0\n",
      "2  1.0  51.0\n",
      "3  2.0  52.0\n",
      "4  3.0  53.0\n",
      "5  4.0  54.0\n",
      "6  5.0  55.0\n",
      "7  6.0  56.0\n",
      "8  7.0  57.0\n",
      "9  8.0  58.0,    0   1\n",
      "0  0  50\n",
      "1  1  51\n",
      "2  2  52\n",
      "3  3  53\n",
      "4  4  54\n",
      "5  5  55\n",
      "6  6  56\n",
      "7  7  57\n",
      "8  8  58\n",
      "9  9  59,      0     1\n",
      "0  1.0  51.0\n",
      "1  2.0  52.0\n",
      "2  3.0  53.0\n",
      "3  4.0  54.0\n",
      "4  5.0  55.0\n",
      "5  6.0  56.0\n",
      "6  7.0  57.0\n",
      "7  8.0  58.0\n",
      "8  9.0  59.0\n",
      "9  NaN   NaN]\n"
     ]
    }
   ],
   "source": [
    "# df_feb['7c0.brickvoltage002_bms01']\n",
    "\n",
    "raw = pd.DataFrame()\n",
    "raw['ob1'] = [x for x in range(10)]\n",
    "raw['ob2'] = [x for x in range(50, 60)]\n",
    "values = raw.values\n",
    "\n",
    "data = series_to_supervised(values, 1, 2)\n",
    "#print(data)\n",
    "#print(values)\n"
   ]
  }
 ],
 "metadata": {
  "kernelspec": {
   "display_name": "Python 3 (ipykernel)",
   "language": "python",
   "name": "python3"
  },
  "language_info": {
   "codemirror_mode": {
    "name": "ipython",
    "version": 3
   },
   "file_extension": ".py",
   "mimetype": "text/x-python",
   "name": "python",
   "nbconvert_exporter": "python",
   "pygments_lexer": "ipython3",
   "version": "3.9.7"
  }
 },
 "nbformat": 4,
 "nbformat_minor": 5
}

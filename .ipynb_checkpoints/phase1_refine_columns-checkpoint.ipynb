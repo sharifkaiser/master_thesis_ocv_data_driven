{
 "cells": [
  {
   "cell_type": "markdown",
   "metadata": {},
   "source": [
    "# Data format refinement for phase 1 data\n",
    "## Primary refinement of columns, data etc.\n",
    "### Phase 1 data has all the voltage columns together, the data is not divided modulewise\n",
    "The column names of input dataframe for this are in CANID.$<$column_name$>$ format.<br>\n",
    "They are renamed, additional necessary columns are added and so on...<br>\n",
    "\n",
    "Note for writing: implementation for phase 1 data type"
   ]
  },
  {
   "cell_type": "code",
   "execution_count": 1,
   "metadata": {
    "ExecuteTime": {
     "end_time": "2022-05-20T13:41:39.173658Z",
     "start_time": "2022-05-20T13:41:39.128786Z"
    }
   },
   "outputs": [],
   "source": [
    "%reload_ext autoreload\n",
    "# for auto reloading modules without kernel restart\n",
    "# If this does not work to import custom modules, then restart kernel"
   ]
  },
  {
   "cell_type": "code",
   "execution_count": 2,
   "metadata": {
    "ExecuteTime": {
     "end_time": "2022-05-20T13:41:39.860124Z",
     "start_time": "2022-05-20T13:41:39.849518Z"
    },
    "scrolled": true
   },
   "outputs": [
    {
     "name": "stderr",
     "output_type": "stream",
     "text": [
      "C:\\Users\\s.kaiser\\AppData\\Local\\Temp\\ipykernel_10668\\696421802.py:2: DeprecationWarning: Importing display from IPython.core.display is deprecated since IPython 7.14, please import from IPython display\n",
      "  from IPython.core.display import display, HTML\n"
     ]
    },
    {
     "data": {
      "text/html": [
       "<style>.container { width:95% !important; }</style>"
      ],
      "text/plain": [
       "<IPython.core.display.HTML object>"
      ]
     },
     "metadata": {},
     "output_type": "display_data"
    }
   ],
   "source": [
    "# increase default window size for notebook\n",
    "from IPython.core.display import display, HTML\n",
    "display(HTML(\"<style>.container { width:95% !important; }</style>\"))"
   ]
  },
  {
   "cell_type": "code",
   "execution_count": 23,
   "metadata": {
    "ExecuteTime": {
     "end_time": "2022-05-19T02:50:58.463492Z",
     "start_time": "2022-05-19T02:50:58.330433Z"
    },
    "scrolled": true
   },
   "outputs": [
    {
     "name": "stdout",
     "output_type": "stream",
     "text": [
      "Python 3.9.7\n",
      "pandas version: 1.4.1\n",
      "numpy version: 1.21.2\n"
     ]
    }
   ],
   "source": [
    "import pandas as pd\n",
    "import numpy as np\n",
    "import matplotlib.pyplot as plt\n",
    "import re\n",
    "import timeit\n",
    "from datetime import timedelta\n",
    "from dataclasses import dataclass       # C like structure\n",
    "import glob                             # finds all the pathnames matching specified pattern\n",
    "import datetime as dt\n",
    "import random\n",
    "!python --version\n",
    "print('pandas version: ' + pd.__version__)\n",
    "print('numpy version: ' + np.__version__)"
   ]
  },
  {
   "cell_type": "code",
   "execution_count": 24,
   "metadata": {
    "ExecuteTime": {
     "end_time": "2022-05-19T02:51:00.289519Z",
     "start_time": "2022-05-19T02:51:00.282924Z"
    }
   },
   "outputs": [],
   "source": [
    "import sys, os\n",
    "cwd = sys.path[0]\n",
    "sys.path.append(os.path.join(cwd, 'my_modules'))                # sys.path[0] is dir of the ipynb file\n",
    "import custom_plot\n",
    "import data_clean\n",
    "import data_preprocess\n",
    "import constants"
   ]
  },
  {
   "cell_type": "code",
   "execution_count": 25,
   "metadata": {
    "ExecuteTime": {
     "end_time": "2022-05-19T02:51:02.304512Z",
     "start_time": "2022-05-19T02:51:02.297965Z"
    }
   },
   "outputs": [],
   "source": [
    "%matplotlib notebook\n",
    "# Plot related packages,%matplotlib notebook makes plots in jupyter interactive\n",
    "# constants for plotting\n",
    "x_label_elapsedtime = 0\n",
    "x_label_datetime = 1"
   ]
  },
  {
   "cell_type": "code",
   "execution_count": 27,
   "metadata": {
    "ExecuteTime": {
     "end_time": "2022-05-19T02:53:06.096024Z",
     "start_time": "2022-05-19T02:53:01.999223Z"
    }
   },
   "outputs": [],
   "source": [
    "# load phase 1 dataframe and convert timestamp\n",
    "dir_path = os.path.join(cwd, 'csv')\n",
    "src_path = os.path.join(dir_path, 'df_phase1.pkl')\n",
    "\n",
    "df = pd.read_pickle(src_path)\n",
    "\n",
    "# Convert timestamp from python obj to datetime\n",
    "df['timestamp'] = pd.to_datetime(df['timestamp'], format='%Y-%m-%d %H:%M:%S')\n",
    "df.drop_duplicates(subset=['timestamp'], inplace=True, keep='first')     # remove duplicate entries\n",
    "df = df.sort_values(by=\"timestamp\")    # sort\n",
    "df['timestamp'] = df['timestamp'].dt.tz_localize(None)          # remove UTC parts, i.e. remove all parts after seconds"
   ]
  },
  {
   "cell_type": "code",
   "execution_count": 28,
   "metadata": {
    "ExecuteTime": {
     "end_time": "2022-05-19T02:53:08.168081Z",
     "start_time": "2022-05-19T02:53:08.158686Z"
    }
   },
   "outputs": [
    {
     "name": "stdout",
     "output_type": "stream",
     "text": [
      "True\n",
      "rows, cols (1027851, 259)\n"
     ]
    }
   ],
   "source": [
    "# Test if no duplicates and increasing\n",
    "print(df['timestamp'].is_monotonic_increasing)\n",
    "print('rows, cols', df.shape)"
   ]
  },
  {
   "cell_type": "code",
   "execution_count": 29,
   "metadata": {
    "ExecuteTime": {
     "end_time": "2022-05-19T02:53:10.880096Z",
     "start_time": "2022-05-19T02:53:10.863753Z"
    }
   },
   "outputs": [],
   "source": [
    "# Change column names, remove the can id from the begining\n",
    "\n",
    "df.rename(columns = {\n",
    "    '10.current_bms01':'current',\n",
    "    '20.stringvoltage_bms01':'string_V',\n",
    "    '740.minsoc_bms01':'min_SOC',\n",
    "    '40.minsoh_bms01':'min_SOH',\n",
    "    '3c0.currentmodule1integral_bms01':'cur_integral_module1',\n",
    "    '3c0.currentmodule1_bms01':'cur_module1',\n",
    "    '6c0.contactorstate_bms01':'contactor_state',\n",
    "    '740.ctrofftime_bms01':'contactor_off_time',\n",
    "    '7c0.brickvoltage001_bms01':'V1',\n",
    "    '7c0.brickvoltage002_bms01':'V2',\n",
    "    '7c0.brickvoltage003_bms01':'V3',\n",
    "    '7c0.brickvoltage004_bms01':'V4',\n",
    "    '7c0.brickvoltage005_bms01':'V5',\n",
    "    '7c0.brickvoltage006_bms01':'V6',\n",
    "    '7c0.brickvoltage007_bms01':'V7',\n",
    "    '7c0.brickvoltage008_bms01':'V8',\n",
    "    '7c0.brickvoltage009_bms01':'V9',\n",
    "    '7c0.brickvoltage010_bms01':'V10',\n",
    "    '7c0.brickvoltage011_bms01':'V11',\n",
    "    '7c0.brickvoltage012_bms01':'V12',\n",
    "    '7c0.brickvoltage013_bms01':'V13',\n",
    "    '7c0.brickvoltage014_bms01':'V14',\n",
    "    '7c0.brickvoltage015_bms01':'V15',\n",
    "    '7c0.brickvoltage016_bms01':'V16',\n",
    "    '7c0.brickvoltage017_bms01':'V17',\n",
    "    '7c0.brickvoltage018_bms01':'V18',\n",
    "    '7c0.brickvoltage019_bms01':'V19',\n",
    "    '7c0.brickvoltage020_bms01':'V20',\n",
    "    '7c0.brickvoltage021_bms01':'V21',\n",
    "    '7c0.brickvoltage022_bms01':'V22',\n",
    "    '7c0.brickvoltage023_bms01':'V23',\n",
    "    '7c0.brickvoltage024_bms01':'V24',\n",
    "    '7c0.brickvoltage025_bms01':'V25',\n",
    "    '7c0.brickvoltage026_bms01':'V26',\n",
    "    '7c0.brickvoltage027_bms01':'V27',\n",
    "    '7c0.brickvoltage028_bms01':'V28',\n",
    "    '7c0.brickvoltage029_bms01':'V29',\n",
    "    '7c0.brickvoltage030_bms01':'V30',\n",
    "    '7c0.brickvoltage031_bms01':'V31',\n",
    "    '7c0.brickvoltage032_bms01':'V32',\n",
    "    '7c0.brickvoltage033_bms01':'V33',\n",
    "    '7c0.brickvoltage034_bms01':'V34',\n",
    "    '7c0.brickvoltage035_bms01':'V35',\n",
    "    '7c0.brickvoltage036_bms01':'V36',\n",
    "    '7c0.brickvoltage037_bms01':'V37',\n",
    "    '7c0.brickvoltage038_bms01':'V38',\n",
    "    '7c0.brickvoltage039_bms01':'V39',\n",
    "    '7c0.brickvoltage040_bms01':'V40',\n",
    "    '7c0.brickvoltage041_bms01':'V41',\n",
    "    '7c0.brickvoltage042_bms01':'V42',\n",
    "    '7c0.brickvoltage043_bms01':'V43',\n",
    "    '7c0.brickvoltage044_bms01':'V44',\n",
    "    '7c0.brickvoltage045_bms01':'V45',\n",
    "    '7c0.brickvoltage046_bms01':'V46',\n",
    "    '7c0.brickvoltage047_bms01':'V47',\n",
    "    '7c0.brickvoltage048_bms01':'V48',\n",
    "    '7c0.brickvoltage049_bms01':'V49',\n",
    "    '7c0.brickvoltage050_bms01':'V50',\n",
    "    '7c0.brickvoltage051_bms01':'V51',\n",
    "    '7c0.brickvoltage052_bms01':'V52',\n",
    "    '7c0.brickvoltage053_bms01':'V53',\n",
    "    '7c0.brickvoltage054_bms01':'V54',\n",
    "    '7c0.brickvoltage055_bms01':'V55',\n",
    "    '7c0.brickvoltage056_bms01':'V56',\n",
    "    '7c0.brickvoltage057_bms01':'V57',\n",
    "    '7c0.brickvoltage058_bms01':'V58',\n",
    "    '7c0.brickvoltage059_bms01':'V59',\n",
    "    '7c0.brickvoltage060_bms01':'V60',\n",
    "    '7c0.brickvoltage061_bms01':'V61',\n",
    "    '7c0.brickvoltage062_bms01':'V62',\n",
    "    '7c0.brickvoltage063_bms01':'V63',\n",
    "    '7c0.brickvoltage064_bms01':'V64',\n",
    "    '7c0.brickvoltage065_bms01':'V65',\n",
    "    '7c0.brickvoltage066_bms01':'V66',\n",
    "    '7c0.brickvoltage067_bms01':'V67',\n",
    "    '7c0.brickvoltage068_bms01':'V68',\n",
    "    '7c0.brickvoltage069_bms01':'V69',\n",
    "    '7c0.brickvoltage070_bms01':'V70',\n",
    "    '7c0.brickvoltage071_bms01':'V71',\n",
    "    '7c0.brickvoltage072_bms01':'V72',    \n",
    "    '7c0.brickvoltage073_bms01':'V73',\n",
    "    '7c0.brickvoltage074_bms01':'V74',\n",
    "    '7c0.brickvoltage075_bms01':'V75',\n",
    "    '7c0.brickvoltage076_bms01':'V76',\n",
    "    '7c0.brickvoltage077_bms01':'V77',\n",
    "    '7c0.brickvoltage078_bms01':'V78',\n",
    "    '7c0.brickvoltage079_bms01':'V79',\n",
    "    '7c0.brickvoltage080_bms01':'V80',\n",
    "    '7c0.brickvoltage081_bms01':'V81',\n",
    "    '7c0.brickvoltage082_bms01':'V82',\n",
    "    '7c0.brickvoltage083_bms01':'V83',\n",
    "    '7c0.brickvoltage084_bms01':'V84',\n",
    "    '7c0.brickvoltage085_bms01':'V85',\n",
    "    '7c0.brickvoltage086_bms01':'V86',\n",
    "    '7c0.brickvoltage087_bms01':'V87',\n",
    "    '7c0.brickvoltage088_bms01':'V88',\n",
    "    '7c0.brickvoltage089_bms01':'V89',\n",
    "    '7c0.brickvoltage090_bms01':'V90',\n",
    "    '7c0.brickvoltage091_bms01':'V91',\n",
    "    '7c0.brickvoltage092_bms01':'V92',\n",
    "    '7c0.brickvoltage093_bms01':'V93',\n",
    "    '7c0.brickvoltage094_bms01':'V94',\n",
    "    '7c0.brickvoltage095_bms01':'V95',\n",
    "    '7c0.brickvoltage096_bms01':'V96',\n",
    "    '7c0.moduletemperature01_bms01':'T1',\n",
    "    '7c0.moduletemperature02_bms01':'T2',\n",
    "    '7c0.moduletemperature03_bms01':'T3',\n",
    "    '7c0.moduletemperature04_bms01':'T4',\n",
    "    '7c0.moduletemperature05_bms01':'T5',\n",
    "    '7c0.moduletemperature06_bms01':'T6',\n",
    "    '7c0.moduletemperature07_bms01':'T7',\n",
    "    '7c0.moduletemperature08_bms01':'T8',\n",
    "    '7c0.moduletemperature09_bms01':'T9',\n",
    "    '7c0.moduletemperature10_bms01':'T10',\n",
    "    '7c0.moduletemperature11_bms01':'T11',\n",
    "    '7c0.moduletemperature12_bms01':'T12',\n",
    "    '7c0.moduletemperature13_bms01':'T13',\n",
    "    '7c0.moduletemperature14_bms01':'T14',\n",
    "    '7c0.moduletemperature15_bms01':'T15',\n",
    "    '7c0.moduletemperature16_bms01':'T16',\n",
    "    '7c0.moduletemperature17_bms01':'T17',\n",
    "    '7c0.moduletemperature18_bms01':'T18',\n",
    "    '7c0.moduletemperature19_bms01':'T19',\n",
    "    '7c0.moduletemperature20_bms01':'T20',\n",
    "    '7c0.moduletemperature21_bms01':'T21',\n",
    "    '7c0.moduletemperature22_bms01':'T22',\n",
    "    '7c0.moduletemperature23_bms01':'T23',\n",
    "    '7c0.moduletemperature24_bms01':'T24',\n",
    "    '7c0.moduletemperature25_bms01':'T25',\n",
    "    '7c0.moduletemperature26_bms01':'T26',\n",
    "    '7c0.moduletemperature27_bms01':'T27',\n",
    "    '7c0.moduletemperature28_bms01':'T28',\n",
    "    '7c0.moduletemperature29_bms01':'T29',\n",
    "    '7c0.moduletemperature30_bms01':'T30',\n",
    "    '7c0.moduletemperature31_bms01':'T31',\n",
    "    '7c0.moduletemperature32_bms01':'T32'\n",
    "    }, inplace = True)\n",
    "\n"
   ]
  },
  {
   "cell_type": "code",
   "execution_count": 30,
   "metadata": {
    "ExecuteTime": {
     "end_time": "2022-05-19T02:53:17.045257Z",
     "start_time": "2022-05-19T02:53:17.039084Z"
    }
   },
   "outputs": [
    {
     "name": "stdout",
     "output_type": "stream",
     "text": [
      "Index(['timestamp', '0.stringstatereq_bms01_bms', 'current',\n",
      "       '10.linkvoltage_bms01', '10.stringstate_bms01', '20.meansoc_bms01',\n",
      "       'string_V', '30.maxsoc_bms01', '30.minsoc_bms01',\n",
      "       '40.dchgintresistance_bms01',\n",
      "       ...\n",
      "       'T23', 'T24', 'T25', 'T26', 'T27', 'T28', 'T29', 'T30', 'T31', 'T32'],\n",
      "      dtype='object', length=259)\n"
     ]
    }
   ],
   "source": [
    "# test if column names have changed\n",
    "print(df.columns)"
   ]
  },
  {
   "cell_type": "code",
   "execution_count": 31,
   "metadata": {
    "ExecuteTime": {
     "end_time": "2022-05-19T02:53:30.725871Z",
     "start_time": "2022-05-19T02:53:19.048906Z"
    }
   },
   "outputs": [],
   "source": [
    "# average module temp is only necessary\n",
    "df['Temp_mean_module1'] = df[['T1', 'T2', 'T3', 'T4']].mean(axis=1)\n",
    "df['Temp_mean_module2'] = df[['T5', 'T6', 'T7', 'T8']].mean(axis=1)\n",
    "df['Temp_mean_module3'] = df[['T9', 'T10', 'T11', 'T12']].mean(axis=1)\n",
    "df['Temp_mean_module4'] = df[['T13', 'T14', 'T15', 'T16']].mean(axis=1)\n",
    "df['Temp_mean_module5'] = df[['T17', 'T18', 'T19', 'T20']].mean(axis=1)\n",
    "df['Temp_mean_module6'] = df[['T21', 'T22', 'T23', 'T24']].mean(axis=1)\n",
    "df['Temp_mean_module7'] = df[['T25', 'T26', 'T27', 'T28']].mean(axis=1)\n",
    "df['Temp_mean_module8'] = df[['T29', 'T30', 'T31', 'T32']].mean(axis=1)\n",
    "\n",
    "df.drop(['T1', 'T2', 'T3', 'T4', 'T5', 'T6', 'T7', 'T8', 'T9', 'T10', 'T11', 'T12',\n",
    "            'T13', 'T14', 'T15', 'T16', 'T17', 'T18', 'T19', 'T20', 'T21', 'T22', 'T23', 'T24',\n",
    "            'T25', 'T26', 'T27', 'T28', 'T29', 'T30', 'T31', 'T32'], axis=1, inplace=True)\n"
   ]
  },
  {
   "cell_type": "code",
   "execution_count": 32,
   "metadata": {
    "ExecuteTime": {
     "end_time": "2022-05-19T02:53:33.328119Z",
     "start_time": "2022-05-19T02:53:33.095546Z"
    }
   },
   "outputs": [],
   "source": [
    "# Keep only necessary columns\n",
    "df = df[['timestamp', 'current', 'min_SOC', 'cur_integral_module1', 'contactor_state', 'contactor_off_time', \n",
    "                 'V1', 'V2', 'V3', 'V4', 'V5', 'V6', 'V7', 'V8', 'V9',\n",
    "                 'V10', 'V11', 'V12', 'V13', 'V14', 'V15', 'V16', 'V17', 'V18', 'V19',\n",
    "                 'V20', 'V21', 'V22', 'V23', 'V24', 'V25', 'V26', 'V27', 'V28', 'V29', \n",
    "                 'V30', 'V31', 'V32', 'V33', 'V34', 'V35', 'V36', 'V37', 'V38', 'V39',\n",
    "                 'V40', 'V41', 'V42', 'V43', 'V44', 'V45', 'V46', 'V47', 'V48', 'V49',\n",
    "                 'V50', 'V51', 'V52', 'V53', 'V54', 'V55', 'V56', 'V57', 'V58', 'V59',\n",
    "                 'V60', 'V61', 'V62', 'V63', 'V64', 'V65', 'V66', 'V67', 'V68', 'V69',\n",
    "                 'V70', 'V71', 'V72', 'V73', 'V74', 'V75', 'V76', 'V77', 'V78', 'V79',\n",
    "                 'V80', 'V81', 'V82', 'V83', 'V84', 'V85', 'V86', 'V87', 'V88', 'V89',\n",
    "                 'V90', 'V91', 'V92', 'V93', 'V94', 'V95', 'V96',\n",
    "                 'Temp_mean_module1', 'Temp_mean_module2', 'Temp_mean_module3', 'Temp_mean_module4',\n",
    "                 'Temp_mean_module5', 'Temp_mean_module6', 'Temp_mean_module7', 'Temp_mean_module8'\n",
    "                ]]\n",
    "\n"
   ]
  },
  {
   "cell_type": "code",
   "execution_count": 33,
   "metadata": {
    "ExecuteTime": {
     "end_time": "2022-05-19T02:53:37.098097Z",
     "start_time": "2022-05-19T02:53:37.080302Z"
    },
    "scrolled": true
   },
   "outputs": [
    {
     "name": "stdout",
     "output_type": "stream",
     "text": [
      "                 timestamp  current  min_SOC  cur_integral_module1  \\\n",
      "732498 2022-01-15 20:59:16      7.6    94.92               27200.0   \n",
      "732499 2022-01-15 20:59:17      7.6    94.92               27200.0   \n",
      "732500 2022-01-15 20:59:18      7.6    94.92               27200.0   \n",
      "735207 2022-01-15 20:59:19      7.6    94.93               27200.0   \n",
      "735208 2022-01-15 20:59:20      7.7    94.93               27200.0   \n",
      "732503 2022-01-15 20:59:21      7.6    94.93               27200.0   \n",
      "732504 2022-01-15 20:59:22      7.6    94.93               27200.0   \n",
      "732505 2022-01-15 20:59:23      7.6    94.93               27200.0   \n",
      "732506 2022-01-15 20:59:24      7.6    94.94               27200.0   \n",
      "735213 2022-01-15 20:59:25      7.8    94.94               27300.0   \n",
      "\n",
      "        contactor_state  contactor_off_time      V1      V2      V3      V4  \\\n",
      "732498              2.0                 0.0  4.1014  4.1011  4.1013  4.1014   \n",
      "732499              2.0                 0.0  4.1011  4.1010  4.1011  4.1016   \n",
      "732500              2.0                 0.0  4.1011  4.1009  4.1011  4.1012   \n",
      "735207              2.0                 0.0  4.1012  4.1011  4.1014  4.1014   \n",
      "735208              2.0                 0.0  4.1011  4.1010  4.1011  4.1011   \n",
      "732503              2.0                 0.0  4.1009  4.1008  4.1010  4.1011   \n",
      "732504              2.0                 0.0  4.1012  4.1010  4.1012  4.1013   \n",
      "732505              2.0                 0.0  4.1013  4.1012  4.1013  4.1014   \n",
      "732506              2.0                 0.0  4.1014  4.1013  4.1015  4.1015   \n",
      "735213              2.0                 0.0  4.1015  4.1013  4.1015  4.1017   \n",
      "\n",
      "        ...     V95     V96  Temp_mean_module1  Temp_mean_module2  \\\n",
      "732498  ...  4.1011  4.1006               12.0              12.75   \n",
      "732499  ...  4.1009  4.1005               12.0              12.75   \n",
      "732500  ...  4.1011  4.1006               12.0              12.75   \n",
      "735207  ...  4.1012  4.1007               12.0              12.75   \n",
      "735208  ...  4.1009  4.1004               12.0              12.75   \n",
      "732503  ...  4.1009  4.1004               12.0              12.75   \n",
      "732504  ...  4.1010  4.1005               12.0              12.75   \n",
      "732505  ...  4.1010  4.1005               12.0              12.75   \n",
      "732506  ...  4.1014  4.1009               12.0              12.75   \n",
      "735213  ...  4.1014  4.1008               12.0              12.75   \n",
      "\n",
      "        Temp_mean_module3  Temp_mean_module4  Temp_mean_module5  \\\n",
      "732498              215.0              215.0              215.0   \n",
      "732499              215.0              215.0              215.0   \n",
      "732500              215.0              215.0              215.0   \n",
      "735207              215.0              215.0              215.0   \n",
      "735208              215.0              215.0              215.0   \n",
      "732503              215.0              215.0              215.0   \n",
      "732504              215.0              215.0              215.0   \n",
      "732505              215.0              215.0              215.0   \n",
      "732506              215.0              215.0              215.0   \n",
      "735213              215.0              215.0              215.0   \n",
      "\n",
      "        Temp_mean_module6  Temp_mean_module7  Temp_mean_module8  \n",
      "732498              215.0              215.0              215.0  \n",
      "732499              215.0              215.0              215.0  \n",
      "732500              215.0              215.0              215.0  \n",
      "735207              215.0              215.0              215.0  \n",
      "735208              215.0              215.0              215.0  \n",
      "732503              215.0              215.0              215.0  \n",
      "732504              215.0              215.0              215.0  \n",
      "732505              215.0              215.0              215.0  \n",
      "732506              215.0              215.0              215.0  \n",
      "735213              215.0              215.0              215.0  \n",
      "\n",
      "[10 rows x 110 columns]\n",
      "rows, cols:  (1027851, 110)\n"
     ]
    }
   ],
   "source": [
    "# test columns\n",
    "print(df.head(10))\n",
    "print('rows, cols: ', df.shape)"
   ]
  },
  {
   "cell_type": "code",
   "execution_count": 34,
   "metadata": {
    "ExecuteTime": {
     "end_time": "2022-05-19T02:54:02.635021Z",
     "start_time": "2022-05-19T02:53:41.023123Z"
    }
   },
   "outputs": [],
   "source": [
    "# Remove SNA voltages i.e. interpolate voltages where they are out of limit\n",
    "# also interpolate SNA current\n",
    "\n",
    "for i in range(1, constants.NUM_CELLS+1):   # The voltage columns are V1, V2, ..., V96\n",
    "    df = data_preprocess.interpolate_beyond_limit(df, 'V'+str(i), constants.VOLTAGE_LOWER_LIMIT, constants.VOLTAGE_UPPER_LIMIT)\n",
    "    df = data_preprocess.interpolate_beyond_limit(df, 'current', constants.CURRENT_LOWER_LIMIT, constants.CURRENT_UPPER_LIMIT)"
   ]
  },
  {
   "cell_type": "code",
   "execution_count": 35,
   "metadata": {
    "ExecuteTime": {
     "end_time": "2022-05-19T02:54:05.090859Z",
     "start_time": "2022-05-19T02:54:05.080654Z"
    }
   },
   "outputs": [
    {
     "name": "stdout",
     "output_type": "stream",
     "text": [
      "-267.2 117.9\n"
     ]
    }
   ],
   "source": [
    "# test whether SNA removal was successful\n",
    "column = df[\"current\"].copy()\n",
    "max_cur = column.max()\n",
    "min_cur = column.min()\n",
    "print(min_cur, max_cur)"
   ]
  },
  {
   "cell_type": "code",
   "execution_count": 36,
   "metadata": {
    "ExecuteTime": {
     "end_time": "2022-05-19T02:54:07.509228Z",
     "start_time": "2022-05-19T02:54:07.504836Z"
    }
   },
   "outputs": [
    {
     "name": "stdout",
     "output_type": "stream",
     "text": [
      "rows, cols:  (1027851, 110)\n"
     ]
    }
   ],
   "source": [
    "print('rows, cols: ', df.shape)"
   ]
  },
  {
   "cell_type": "code",
   "execution_count": 37,
   "metadata": {
    "ExecuteTime": {
     "end_time": "2022-05-19T02:54:10.215615Z",
     "start_time": "2022-05-19T02:54:10.017901Z"
    }
   },
   "outputs": [
    {
     "name": "stdout",
     "output_type": "stream",
     "text": [
      "maximum voltage:  4.1514\n",
      "maximum voltage:  3.3515\n"
     ]
    }
   ],
   "source": [
    "# test max and min voltage\n",
    "max_volts = []\n",
    "min_volts = []\n",
    "for i in range(1, 97):\n",
    "    i_max = df['V'+str(i)].max()\n",
    "    i_min = df['V'+str(i)].min()\n",
    "#     print('V'+str(i)+' max:',  i_max)\n",
    "#     print('V'+str(i)+' min:',  i_min)\n",
    "    max_volts.append(i_max)\n",
    "    min_volts.append(i_min)\n",
    "\n",
    "print('maximum voltage: ', max(max_volts))\n",
    "print('maximum voltage: ', min(min_volts))"
   ]
  },
  {
   "cell_type": "code",
   "execution_count": 38,
   "metadata": {
    "ExecuteTime": {
     "end_time": "2022-05-19T02:54:14.022082Z",
     "start_time": "2022-05-19T02:54:13.424449Z"
    }
   },
   "outputs": [],
   "source": [
    "# Fill NAN values\n",
    "if (df['contactor_state'].isnull().sum() > 0) or (df['current'].isnull().sum() > 0) or (df['V1'].isnull().sum() > 0):\n",
    "    df.fillna(method=\"ffill\", inplace=True)"
   ]
  },
  {
   "cell_type": "code",
   "execution_count": 39,
   "metadata": {
    "ExecuteTime": {
     "end_time": "2022-05-19T02:54:21.633627Z",
     "start_time": "2022-05-19T02:54:15.922465Z"
    }
   },
   "outputs": [],
   "source": [
    "# Save valid voltage pkl (df checkpoint)\n",
    "dir_path = os.path.join(cwd, 'csv')\n",
    "src_path = os.path.join(dir_path, 'df_phase1_refined.pkl')\n",
    "\n",
    "df.to_pickle(src_path)"
   ]
  }
 ],
 "metadata": {
  "colab": {
   "collapsed_sections": [],
   "name": "test_data_visual.ipynb",
   "provenance": []
  },
  "interpreter": {
   "hash": "2db524e06e9f5f4ffedc911c917cb75e12dbc923643829bf417064a77eb14d37"
  },
  "kernelspec": {
   "display_name": "Python 3 (ipykernel)",
   "language": "python",
   "name": "python3"
  },
  "language_info": {
   "codemirror_mode": {
    "name": "ipython",
    "version": 3
   },
   "file_extension": ".py",
   "mimetype": "text/x-python",
   "name": "python",
   "nbconvert_exporter": "python",
   "pygments_lexer": "ipython3",
   "version": "3.9.7"
  }
 },
 "nbformat": 4,
 "nbformat_minor": 1
}

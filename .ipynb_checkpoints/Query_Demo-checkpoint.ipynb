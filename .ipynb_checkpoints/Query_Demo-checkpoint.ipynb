{
 "cells": [
  {
   "cell_type": "code",
   "execution_count": 8,
   "metadata": {},
   "outputs": [],
   "source": [
    "import awswrangler as wr\r\n",
    "import pandas as pd\r\n",
    "from datetime import datetime\r\n",
    "\r\n",
    "DATABASE_NAME = \"DB_KELLY_v1\"\r\n",
    "\r\n",
    "def getDataFromDB(signal_list = [\"brickVoltage001_BMS01\", \"minSOC_BMS01\"], startTime = '2022-04-03 06:58:04' , endTime = '2022-04-08 12:00:04', resampling = 300):\r\n",
    "    # signal_list = [\"brickVoltage001_BMS01\", \"minSOC_BMS01\"]\r\n",
    "    count = 0\r\n",
    "    for signal in signal_list:\r\n",
    "        querry = f\"SELECT time, measure_value::double FROM {DATABASE_NAME}.{signal} WHERE time BETWEEN TIMESTAMP '{startTime}' AND TIMESTAMP '{endTime}' ORDER BY time ASC\"\r\n",
    "        print(querry)\r\n",
    "        df = wr.timestream.query(\r\n",
    "            f\"{querry}\"\r\n",
    "        )\r\n",
    "        value_colName = list(df.columns)[1]\r\n",
    "        # print(value_colName)\r\n",
    "        df.rename(columns = {value_colName:signal}, inplace = True)\r\n",
    "        df.time = pd.to_datetime(df.time)\r\n",
    "        df = df.set_index([\"time\"])\r\n",
    "        resampling_str = \"100ms\" \r\n",
    "        df_resample = df.resample(resampling_str).bfill().reset_index()\r\n",
    "\r\n",
    "        if count != 0:\r\n",
    "            df_all = pd.merge_asof(df_all, df_resample, on='time')\r\n",
    "        else:\r\n",
    "            df_all = df_resample\r\n",
    "        count = count+1\r\n",
    "\r\n",
    "    print(df_all.head())\r\n",
    "    return df_all"
   ]
  },
  {
   "cell_type": "code",
   "execution_count": 7,
   "metadata": {},
   "outputs": [
    {
     "data": {
      "text/html": "<div>\n<style scoped>\n    .dataframe tbody tr th:only-of-type {\n        vertical-align: middle;\n    }\n\n    .dataframe tbody tr th {\n        vertical-align: top;\n    }\n\n    .dataframe thead th {\n        text-align: right;\n    }\n</style>\n<table border=\"1\" class=\"dataframe\">\n  <thead>\n    <tr style=\"text-align: right;\">\n      <th></th>\n      <th>time</th>\n      <th>measure_value::double</th>\n    </tr>\n  </thead>\n  <tbody>\n    <tr>\n      <th>0</th>\n      <td>2022-03-20 15:14:15.013</td>\n      <td>8.1</td>\n    </tr>\n    <tr>\n      <th>1</th>\n      <td>2022-03-20 15:14:15.023</td>\n      <td>8.2</td>\n    </tr>\n    <tr>\n      <th>2</th>\n      <td>2022-03-20 15:14:15.033</td>\n      <td>8.2</td>\n    </tr>\n    <tr>\n      <th>3</th>\n      <td>2022-03-20 15:14:15.043</td>\n      <td>8.2</td>\n    </tr>\n    <tr>\n      <th>4</th>\n      <td>2022-03-20 15:14:15.054</td>\n      <td>8.2</td>\n    </tr>\n    <tr>\n      <th>5</th>\n      <td>2022-03-20 15:14:15.064</td>\n      <td>8.2</td>\n    </tr>\n    <tr>\n      <th>6</th>\n      <td>2022-03-20 15:14:15.073</td>\n      <td>8.1</td>\n    </tr>\n    <tr>\n      <th>7</th>\n      <td>2022-03-20 15:14:15.083</td>\n      <td>8.2</td>\n    </tr>\n    <tr>\n      <th>8</th>\n      <td>2022-03-20 15:14:15.093</td>\n      <td>8.2</td>\n    </tr>\n    <tr>\n      <th>9</th>\n      <td>2022-03-20 15:14:15.103</td>\n      <td>8.2</td>\n    </tr>\n    <tr>\n      <th>10</th>\n      <td>2022-03-20 15:14:15.113</td>\n      <td>8.2</td>\n    </tr>\n    <tr>\n      <th>11</th>\n      <td>2022-03-20 15:14:15.123</td>\n      <td>8.2</td>\n    </tr>\n    <tr>\n      <th>12</th>\n      <td>2022-03-20 15:14:15.133</td>\n      <td>8.1</td>\n    </tr>\n    <tr>\n      <th>13</th>\n      <td>2022-03-20 15:14:15.143</td>\n      <td>8.2</td>\n    </tr>\n    <tr>\n      <th>14</th>\n      <td>2022-03-20 15:14:15.154</td>\n      <td>8.2</td>\n    </tr>\n    <tr>\n      <th>15</th>\n      <td>2022-03-20 15:14:15.164</td>\n      <td>8.2</td>\n    </tr>\n    <tr>\n      <th>16</th>\n      <td>2022-03-20 15:14:15.173</td>\n      <td>8.2</td>\n    </tr>\n    <tr>\n      <th>17</th>\n      <td>2022-03-20 15:14:15.183</td>\n      <td>8.2</td>\n    </tr>\n    <tr>\n      <th>18</th>\n      <td>2022-03-20 15:14:15.193</td>\n      <td>8.1</td>\n    </tr>\n    <tr>\n      <th>19</th>\n      <td>2022-03-20 15:14:15.203</td>\n      <td>8.2</td>\n    </tr>\n    <tr>\n      <th>20</th>\n      <td>2022-03-20 15:14:15.213</td>\n      <td>8.2</td>\n    </tr>\n    <tr>\n      <th>21</th>\n      <td>2022-03-20 15:14:15.223</td>\n      <td>8.2</td>\n    </tr>\n    <tr>\n      <th>22</th>\n      <td>2022-03-20 15:14:15.233</td>\n      <td>8.2</td>\n    </tr>\n    <tr>\n      <th>23</th>\n      <td>2022-03-20 15:14:15.243</td>\n      <td>8.2</td>\n    </tr>\n    <tr>\n      <th>24</th>\n      <td>2022-03-20 15:14:15.254</td>\n      <td>8.1</td>\n    </tr>\n    <tr>\n      <th>25</th>\n      <td>2022-03-20 15:14:15.264</td>\n      <td>8.2</td>\n    </tr>\n    <tr>\n      <th>26</th>\n      <td>2022-03-20 15:14:15.273</td>\n      <td>8.2</td>\n    </tr>\n    <tr>\n      <th>27</th>\n      <td>2022-03-20 15:14:15.283</td>\n      <td>8.2</td>\n    </tr>\n    <tr>\n      <th>28</th>\n      <td>2022-03-20 15:14:15.293</td>\n      <td>8.2</td>\n    </tr>\n    <tr>\n      <th>29</th>\n      <td>2022-03-20 15:14:15.303</td>\n      <td>8.2</td>\n    </tr>\n    <tr>\n      <th>30</th>\n      <td>2022-03-20 15:14:15.313</td>\n      <td>8.2</td>\n    </tr>\n    <tr>\n      <th>31</th>\n      <td>2022-03-20 15:14:15.323</td>\n      <td>8.1</td>\n    </tr>\n    <tr>\n      <th>32</th>\n      <td>2022-03-20 15:14:15.333</td>\n      <td>8.2</td>\n    </tr>\n    <tr>\n      <th>33</th>\n      <td>2022-03-20 15:14:15.343</td>\n      <td>8.2</td>\n    </tr>\n    <tr>\n      <th>34</th>\n      <td>2022-03-20 15:14:15.354</td>\n      <td>8.1</td>\n    </tr>\n    <tr>\n      <th>35</th>\n      <td>2022-03-20 15:14:15.364</td>\n      <td>8.2</td>\n    </tr>\n    <tr>\n      <th>36</th>\n      <td>2022-03-20 15:14:15.373</td>\n      <td>8.1</td>\n    </tr>\n    <tr>\n      <th>37</th>\n      <td>2022-03-20 15:14:15.383</td>\n      <td>8.1</td>\n    </tr>\n    <tr>\n      <th>38</th>\n      <td>2022-03-20 15:14:15.393</td>\n      <td>8.2</td>\n    </tr>\n    <tr>\n      <th>39</th>\n      <td>2022-03-20 15:14:15.403</td>\n      <td>8.2</td>\n    </tr>\n    <tr>\n      <th>40</th>\n      <td>2022-03-20 15:14:15.413</td>\n      <td>8.2</td>\n    </tr>\n    <tr>\n      <th>41</th>\n      <td>2022-03-20 15:14:15.423</td>\n      <td>8.2</td>\n    </tr>\n    <tr>\n      <th>42</th>\n      <td>2022-03-20 15:14:15.433</td>\n      <td>8.2</td>\n    </tr>\n    <tr>\n      <th>43</th>\n      <td>2022-03-20 15:14:15.443</td>\n      <td>8.1</td>\n    </tr>\n    <tr>\n      <th>44</th>\n      <td>2022-03-20 15:14:15.454</td>\n      <td>8.2</td>\n    </tr>\n    <tr>\n      <th>45</th>\n      <td>2022-03-20 15:14:15.464</td>\n      <td>8.2</td>\n    </tr>\n    <tr>\n      <th>46</th>\n      <td>2022-03-20 15:14:15.473</td>\n      <td>8.2</td>\n    </tr>\n    <tr>\n      <th>47</th>\n      <td>2022-03-20 15:14:15.483</td>\n      <td>8.2</td>\n    </tr>\n    <tr>\n      <th>48</th>\n      <td>2022-03-20 15:14:15.493</td>\n      <td>8.2</td>\n    </tr>\n    <tr>\n      <th>49</th>\n      <td>2022-03-20 15:14:15.503</td>\n      <td>8.2</td>\n    </tr>\n  </tbody>\n</table>\n</div>",
      "text/plain": "                      time  measure_value::double\n0  2022-03-20 15:14:15.013                    8.1\n1  2022-03-20 15:14:15.023                    8.2\n2  2022-03-20 15:14:15.033                    8.2\n3  2022-03-20 15:14:15.043                    8.2\n4  2022-03-20 15:14:15.054                    8.2\n5  2022-03-20 15:14:15.064                    8.2\n6  2022-03-20 15:14:15.073                    8.1\n7  2022-03-20 15:14:15.083                    8.2\n8  2022-03-20 15:14:15.093                    8.2\n9  2022-03-20 15:14:15.103                    8.2\n10 2022-03-20 15:14:15.113                    8.2\n11 2022-03-20 15:14:15.123                    8.2\n12 2022-03-20 15:14:15.133                    8.1\n13 2022-03-20 15:14:15.143                    8.2\n14 2022-03-20 15:14:15.154                    8.2\n15 2022-03-20 15:14:15.164                    8.2\n16 2022-03-20 15:14:15.173                    8.2\n17 2022-03-20 15:14:15.183                    8.2\n18 2022-03-20 15:14:15.193                    8.1\n19 2022-03-20 15:14:15.203                    8.2\n20 2022-03-20 15:14:15.213                    8.2\n21 2022-03-20 15:14:15.223                    8.2\n22 2022-03-20 15:14:15.233                    8.2\n23 2022-03-20 15:14:15.243                    8.2\n24 2022-03-20 15:14:15.254                    8.1\n25 2022-03-20 15:14:15.264                    8.2\n26 2022-03-20 15:14:15.273                    8.2\n27 2022-03-20 15:14:15.283                    8.2\n28 2022-03-20 15:14:15.293                    8.2\n29 2022-03-20 15:14:15.303                    8.2\n30 2022-03-20 15:14:15.313                    8.2\n31 2022-03-20 15:14:15.323                    8.1\n32 2022-03-20 15:14:15.333                    8.2\n33 2022-03-20 15:14:15.343                    8.2\n34 2022-03-20 15:14:15.354                    8.1\n35 2022-03-20 15:14:15.364                    8.2\n36 2022-03-20 15:14:15.373                    8.1\n37 2022-03-20 15:14:15.383                    8.1\n38 2022-03-20 15:14:15.393                    8.2\n39 2022-03-20 15:14:15.403                    8.2\n40 2022-03-20 15:14:15.413                    8.2\n41 2022-03-20 15:14:15.423                    8.2\n42 2022-03-20 15:14:15.433                    8.2\n43 2022-03-20 15:14:15.443                    8.1\n44 2022-03-20 15:14:15.454                    8.2\n45 2022-03-20 15:14:15.464                    8.2\n46 2022-03-20 15:14:15.473                    8.2\n47 2022-03-20 15:14:15.483                    8.2\n48 2022-03-20 15:14:15.493                    8.2\n49 2022-03-20 15:14:15.503                    8.2"
     },
     "execution_count": 7,
     "metadata": {},
     "output_type": "execute_result"
    }
   ],
   "source": [
    "df[:50]"
   ]
  },
  {
   "cell_type": "code",
   "execution_count": 6,
   "metadata": {},
   "outputs": [
    {
     "name": "stdout",
     "output_type": "stream",
     "text": [
      "SELECT time, measure_value::double FROM DB_KELLY_v1.current_BMS01 ORDER BY time ASC limit 100\n"
     ]
    }
   ],
   "source": [
    "querry = f\"SELECT time, measure_value::double FROM {DATABASE_NAME}.current_BMS01 ORDER BY time ASC limit 100\"\r\n",
    "print(querry)\r\n",
    "df = wr.timestream.query(\r\n",
    "    f\"{querry}\"\r\n",
    ")"
   ]
  },
  {
   "cell_type": "code",
   "execution_count": null,
   "metadata": {},
   "outputs": [],
   "source": [
    "# !pip install "
   ]
  },
  {
   "cell_type": "code",
   "execution_count": 9,
   "metadata": {},
   "outputs": [
    {
     "name": "stdout",
     "output_type": "stream",
     "text": [
      "SELECT time, measure_value::double FROM DB_KELLY_v1.brickVoltage001_BMS01 WHERE time BETWEEN TIMESTAMP '2022-04-04 11:58:04' AND TIMESTAMP '2022-04-04 14:00:04' ORDER BY time ASC\n",
      "SELECT time, measure_value::double FROM DB_KELLY_v1.current_BMS01 WHERE time BETWEEN TIMESTAMP '2022-04-04 11:58:04' AND TIMESTAMP '2022-04-04 14:00:04' ORDER BY time ASC\n",
      "                     time  brickVoltage001_BMS01  current_BMS01\n",
      "0 2022-04-04 12:27:32.700                 3.4680            0.0\n",
      "1 2022-04-04 12:27:32.800                 3.4679            0.0\n",
      "2 2022-04-04 12:27:32.900                 3.4679            0.0\n",
      "3 2022-04-04 12:27:33.000                 3.4679            0.0\n",
      "4 2022-04-04 12:27:33.100                 3.4680            0.0\n"
     ]
    }
   ],
   "source": [
    "df_all = getDataFromDB([\"brickVoltage001_BMS01\", \"current_BMS01\"], '2022-04-04 11:58:04' ,'2022-04-04 14:00:04', 1)"
   ]
  },
  {
   "cell_type": "code",
   "execution_count": 6,
   "metadata": {},
   "outputs": [
    {
     "data": {
      "text/plain": [
       "<AxesSubplot:xlabel='time'>"
      ]
     },
     "execution_count": 6,
     "metadata": {},
     "output_type": "execute_result"
    },
    {
     "data": {
      "image/png": "[encoded data removed]",
      "text/plain": [
       "<Figure size 432x288 with 1 Axes>"
      ]
     },
     "metadata": {
      "needs_background": "light"
     },
     "output_type": "display_data"
    }
   ],
   "source": [
    "df_all = df_all[df_all[\"minSOC_BMS01\"] < 110]\n",
    "df_all = df_all[df_all[\"minSOC_BMS01\"] > 5]\n",
    "df_all = df_all[df_all[\"brickVoltage001_BMS01\"] < 5]\n",
    "df_all = df_all[df_all[\"brickVoltage001_BMS01\"] > 3]\n",
    "df_all.plot(x ='time', y=df_all.columns[1:])\n",
    "# df1 = df[:500000]\n",
    "# df1.plot(x ='time', y='measure_value::double', kind='scatter', figsize=(15,3))"
   ]
  },
  {
   "cell_type": "code",
   "execution_count": null,
   "metadata": {},
   "outputs": [],
   "source": []
  }
 ],
 "metadata": {
  "interpreter": {
   "hash": "2db524e06e9f5f4ffedc911c917cb75e12dbc923643829bf417064a77eb14d37"
  },
  "kernelspec": {
   "display_name": "Python 3 (ipykernel)",
   "language": "python",
   "name": "python3"
  },
  "language_info": {
   "codemirror_mode": {
    "name": "ipython",
    "version": 3
   },
   "file_extension": ".py",
   "mimetype": "text/x-python",
   "name": "python",
   "nbconvert_exporter": "python",
   "pygments_lexer": "ipython3",
   "version": "3.9.7"
  }
 },
 "nbformat": 4,
 "nbformat_minor": 2
}